{
 "cells": [
  {
   "source": [
    "Commercial banks receive _a lot_ of applications for credit cards. Many of them get rejected for many reasons, like high loan balances, low income levels, or too many inquiries on an individual's credit report, for example. Manually analyzing these applications is mundane, error-prone, and time-consuming (and time is money!). Luckily, this task can be automated with the power of machine learning and pretty much every commercial bank does so nowadays. In this workbook, you will build an automatic credit card approval predictor using machine learning techniques, just like real banks do.\n",
    "\n",
    "### The Data\n",
    "\n",
    "The data is a small subset of the Credit Card Approval dataset from the UCI Machine Learning Repository showing the credit card applications a bank receives. This dataset has been loaded as a `pandas` DataFrame called `cc_apps`. The last column in the dataset is the target value."
   ],
   "metadata": {},
   "id": "35aebf2e-0635-4fef-bc9a-877b6a20fb13",
   "cell_type": "markdown"
  },
  {
   "source": [
    "# Import necessary libraries\n",
    "import pandas as pd\n",
    "import numpy as np\n",
    "from sklearn.model_selection import train_test_split\n",
    "from sklearn.preprocessing import StandardScaler\n",
    "from sklearn.linear_model import LogisticRegression\n",
    "from sklearn.metrics import confusion_matrix\n",
    "from sklearn.model_selection import GridSearchCV\n",
    "\n",
    "# Load the dataset\n",
    "cc_apps = pd.read_csv(\"cc_approvals.data\", header=None) \n",
    "cc_apps.head()"
   ],
   "metadata": {
    "executionCancelledAt": null,
    "executionTime": 40,
    "lastExecutedAt": 1730371020187,
    "lastScheduledRunId": null,
    "lastSuccessfullyExecutedCode": "# Import necessary libraries\nimport pandas as pd\nimport numpy as np\nfrom sklearn.model_selection import train_test_split\nfrom sklearn.preprocessing import StandardScaler\nfrom sklearn.linear_model import LogisticRegression\nfrom sklearn.metrics import confusion_matrix\nfrom sklearn.model_selection import GridSearchCV\n\n# Load the dataset\ncc_apps = pd.read_csv(\"cc_approvals.data\", header=None) \ncc_apps.head()",
    "outputsMetadata": {
     "0": {
      "height": 241,
      "type": "dataFrame"
     }
    },
    "lastExecutedByKernel": "947558c5-5c4a-43fb-8ed7-2d9e107aab76"
   },
   "id": "6e86b1e8-a3fa-4b09-982f-795f218bd1a6",
   "cell_type": "code",
   "execution_count": 31,
   "outputs": [
    {
     "output_type": "execute_result",
     "data": {
      "application/com.datacamp.data-table.v2+json": {
       "table": {
        "schema": {
         "fields": [
          {
           "name": "index",
           "type": "integer"
          },
          {
           "name": "0",
           "type": "string"
          },
          {
           "name": "1",
           "type": "string"
          },
          {
           "name": "2",
           "type": "number"
          },
          {
           "name": "3",
           "type": "string"
          },
          {
           "name": "4",
           "type": "string"
          },
          {
           "name": "5",
           "type": "string"
          },
          {
           "name": "6",
           "type": "string"
          },
          {
           "name": "7",
           "type": "number"
          },
          {
           "name": "8",
           "type": "string"
          },
          {
           "name": "9",
           "type": "string"
          },
          {
           "name": "10",
           "type": "integer"
          },
          {
           "name": "11",
           "type": "string"
          },
          {
           "name": "12",
           "type": "integer"
          },
          {
           "name": "13",
           "type": "string"
          }
         ],
         "primaryKey": [
          "index"
         ],
         "pandas_version": "1.4.0"
        },
        "data": {
         "0": [
          "b",
          "a",
          "a",
          "b",
          "b"
         ],
         "1": [
          "30.83",
          "58.67",
          "24.50",
          "27.83",
          "20.17"
         ],
         "2": [
          0,
          4.46,
          0.5,
          1.54,
          5.625
         ],
         "3": [
          "u",
          "u",
          "u",
          "u",
          "u"
         ],
         "4": [
          "g",
          "g",
          "g",
          "g",
          "g"
         ],
         "5": [
          "w",
          "q",
          "q",
          "w",
          "w"
         ],
         "6": [
          "v",
          "h",
          "h",
          "v",
          "v"
         ],
         "7": [
          1.25,
          3.04,
          1.5,
          3.75,
          1.71
         ],
         "8": [
          "t",
          "t",
          "t",
          "t",
          "t"
         ],
         "9": [
          "t",
          "t",
          "f",
          "t",
          "f"
         ],
         "10": [
          1,
          6,
          0,
          5,
          0
         ],
         "11": [
          "g",
          "g",
          "g",
          "g",
          "s"
         ],
         "12": [
          0,
          560,
          824,
          3,
          0
         ],
         "13": [
          "+",
          "+",
          "+",
          "+",
          "+"
         ],
         "index": [
          0,
          1,
          2,
          3,
          4
         ]
        }
       },
       "total_rows": 5,
       "truncation_type": null
      },
      "text/plain": "  0      1      2  3  4  5  6     7  8  9   10 11   12 13\n0  b  30.83  0.000  u  g  w  v  1.25  t  t   1  g    0  +\n1  a  58.67  4.460  u  g  q  h  3.04  t  t   6  g  560  +\n2  a  24.50  0.500  u  g  q  h  1.50  t  f   0  g  824  +\n3  b  27.83  1.540  u  g  w  v  3.75  t  t   5  g    3  +\n4  b  20.17  5.625  u  g  w  v  1.71  t  f   0  s    0  +",
      "text/html": "<div>\n<style scoped>\n    .dataframe tbody tr th:only-of-type {\n        vertical-align: middle;\n    }\n\n    .dataframe tbody tr th {\n        vertical-align: top;\n    }\n\n    .dataframe thead th {\n        text-align: right;\n    }\n</style>\n<table border=\"1\" class=\"dataframe\">\n  <thead>\n    <tr style=\"text-align: right;\">\n      <th></th>\n      <th>0</th>\n      <th>1</th>\n      <th>2</th>\n      <th>3</th>\n      <th>4</th>\n      <th>5</th>\n      <th>6</th>\n      <th>7</th>\n      <th>8</th>\n      <th>9</th>\n      <th>10</th>\n      <th>11</th>\n      <th>12</th>\n      <th>13</th>\n    </tr>\n  </thead>\n  <tbody>\n    <tr>\n      <th>0</th>\n      <td>b</td>\n      <td>30.83</td>\n      <td>0.000</td>\n      <td>u</td>\n      <td>g</td>\n      <td>w</td>\n      <td>v</td>\n      <td>1.25</td>\n      <td>t</td>\n      <td>t</td>\n      <td>1</td>\n      <td>g</td>\n      <td>0</td>\n      <td>+</td>\n    </tr>\n    <tr>\n      <th>1</th>\n      <td>a</td>\n      <td>58.67</td>\n      <td>4.460</td>\n      <td>u</td>\n      <td>g</td>\n      <td>q</td>\n      <td>h</td>\n      <td>3.04</td>\n      <td>t</td>\n      <td>t</td>\n      <td>6</td>\n      <td>g</td>\n      <td>560</td>\n      <td>+</td>\n    </tr>\n    <tr>\n      <th>2</th>\n      <td>a</td>\n      <td>24.50</td>\n      <td>0.500</td>\n      <td>u</td>\n      <td>g</td>\n      <td>q</td>\n      <td>h</td>\n      <td>1.50</td>\n      <td>t</td>\n      <td>f</td>\n      <td>0</td>\n      <td>g</td>\n      <td>824</td>\n      <td>+</td>\n    </tr>\n    <tr>\n      <th>3</th>\n      <td>b</td>\n      <td>27.83</td>\n      <td>1.540</td>\n      <td>u</td>\n      <td>g</td>\n      <td>w</td>\n      <td>v</td>\n      <td>3.75</td>\n      <td>t</td>\n      <td>t</td>\n      <td>5</td>\n      <td>g</td>\n      <td>3</td>\n      <td>+</td>\n    </tr>\n    <tr>\n      <th>4</th>\n      <td>b</td>\n      <td>20.17</td>\n      <td>5.625</td>\n      <td>u</td>\n      <td>g</td>\n      <td>w</td>\n      <td>v</td>\n      <td>1.71</td>\n      <td>t</td>\n      <td>f</td>\n      <td>0</td>\n      <td>s</td>\n      <td>0</td>\n      <td>+</td>\n    </tr>\n  </tbody>\n</table>\n</div>"
     },
     "metadata": {},
     "execution_count": 31
    }
   ]
  },
  {
   "source": [
    "print(cc_apps.info())\n",
    "print(cc_apps.describe())"
   ],
   "metadata": {
    "executionCancelledAt": null,
    "executionTime": 57,
    "lastExecutedAt": 1730371020244,
    "lastExecutedByKernel": "947558c5-5c4a-43fb-8ed7-2d9e107aab76",
    "lastScheduledRunId": null,
    "lastSuccessfullyExecutedCode": "print(cc_apps.info())\nprint(cc_apps.describe())",
    "outputsMetadata": {
     "0": {
      "height": 603,
      "type": "stream"
     }
    }
   },
   "cell_type": "code",
   "id": "5c11171e-57af-4267-a4ac-ce7eded9e638",
   "outputs": [
    {
     "output_type": "stream",
     "name": "stdout",
     "text": "<class 'pandas.core.frame.DataFrame'>\nRangeIndex: 690 entries, 0 to 689\nData columns (total 14 columns):\n #   Column  Non-Null Count  Dtype  \n---  ------  --------------  -----  \n 0   0       690 non-null    object \n 1   1       690 non-null    object \n 2   2       690 non-null    float64\n 3   3       690 non-null    object \n 4   4       690 non-null    object \n 5   5       690 non-null    object \n 6   6       690 non-null    object \n 7   7       690 non-null    float64\n 8   8       690 non-null    object \n 9   9       690 non-null    object \n 10  10      690 non-null    int64  \n 11  11      690 non-null    object \n 12  12      690 non-null    int64  \n 13  13      690 non-null    object \ndtypes: float64(2), int64(2), object(10)\nmemory usage: 75.6+ KB\nNone\n               2           7          10             12\ncount  690.000000  690.000000  690.00000     690.000000\nmean     4.758725    2.223406    2.40000    1017.385507\nstd      4.978163    3.346513    4.86294    5210.102598\nmin      0.000000    0.000000    0.00000       0.000000\n25%      1.000000    0.165000    0.00000       0.000000\n50%      2.750000    1.000000    0.00000       5.000000\n75%      7.207500    2.625000    3.00000     395.500000\nmax     28.000000   28.500000   67.00000  100000.000000\n"
    }
   ],
   "execution_count": 32
  },
  {
   "source": [
    "print(cc_apps.isin(['?']).any().any())"
   ],
   "metadata": {
    "executionCancelledAt": null,
    "executionTime": 12,
    "lastExecutedAt": 1730371046084,
    "lastExecutedByKernel": "947558c5-5c4a-43fb-8ed7-2d9e107aab76",
    "lastScheduledRunId": null,
    "lastSuccessfullyExecutedCode": "print(cc_apps.isin(['?']).any().any())",
    "outputsMetadata": {
     "0": {
      "height": 38,
      "type": "stream"
     }
    }
   },
   "cell_type": "code",
   "id": "13c44239-b6e5-4ad6-b5e1-9346d262d1b1",
   "outputs": [
    {
     "output_type": "stream",
     "name": "stdout",
     "text": "True\n"
    }
   ],
   "execution_count": 37
  },
  {
   "source": [
    "cc_apps_nans_replaced = cc_apps.replace(\"?\", np.NaN)\n",
    "\n",
    "cc_apps_imputed = cc_apps_nans_replaced.copy()\n",
    "\n",
    "for col in cc_apps_imputed.columns:\n",
    "    # Check if the column is of object type\n",
    "    if cc_apps_imputed[col].dtypes == \"object\":\n",
    "        # Impute with the most frequent value\n",
    "        cc_apps_imputed[col] = cc_apps_imputed[col].fillna(\n",
    "            cc_apps_imputed[col].value_counts().index[0]\n",
    "        )\n",
    "    else:\n",
    "        cc_apps_imputed[col] = cc_apps_imputed[col].fillna(cc_apps_imputed[col].mean())"
   ],
   "metadata": {
    "executionCancelledAt": null,
    "executionTime": 52,
    "lastExecutedAt": 1730371020348,
    "lastExecutedByKernel": "947558c5-5c4a-43fb-8ed7-2d9e107aab76",
    "lastScheduledRunId": null,
    "lastSuccessfullyExecutedCode": "cc_apps_nans_replaced = cc_apps.replace(\"?\", np.NaN)\n\ncc_apps_imputed = cc_apps_nans_replaced.copy()\n\nfor col in cc_apps_imputed.columns:\n    # Check if the column is of object type\n    if cc_apps_imputed[col].dtypes == \"object\":\n        # Impute with the most frequent value\n        cc_apps_imputed[col] = cc_apps_imputed[col].fillna(\n            cc_apps_imputed[col].value_counts().index[0]\n        )\n    else:\n        cc_apps_imputed[col] = cc_apps_imputed[col].fillna(cc_apps_imputed[col].mean())",
    "collapsed": false,
    "jupyter": {
     "outputs_hidden": false,
     "source_hidden": false
    }
   },
   "cell_type": "code",
   "id": "6f5d600b-b3d7-487f-824c-59696e0a0e9c",
   "outputs": [],
   "execution_count": 34
  },
  {
   "source": [
    "cc_apps_encoded = pd.get_dummies(cc_apps_imputed, drop_first=True)\n",
    "\n",
    "X = cc_apps_encoded.iloc[:, :-1].values\n",
    "y = cc_apps_encoded.iloc[:, [-1]].values\n",
    "\n",
    "X_train, X_test, y_train, y_test = train_test_split(X, y, test_size=0.33, random_state=42)\n",
    "\n",
    "scaler = StandardScaler()\n",
    "rescaledX_train = scaler.fit_transform(X_train)\n",
    "rescaledX_test = scaler.transform(X_test)\n",
    "\n",
    "logreg = LogisticRegression()\n",
    "\n",
    "logreg.fit(rescaledX_train, y_train)\n",
    "\n",
    "y_train_pred = logreg.predict(rescaledX_train)\n",
    "\n",
    "print(confusion_matrix(y_train, y_train_pred))\n",
    "\n",
    "tol = [0.01, 0.001, 0.0001]\n",
    "max_iter = [100, 150, 200]\n",
    "\n",
    "param_grid = dict(tol=tol, max_iter=max_iter)\n",
    "\n",
    "grid_model = GridSearchCV(estimator=logreg, param_grid=param_grid, cv=5)\n",
    "\n",
    "grid_model_result = grid_model.fit(rescaledX_train, y_train)\n",
    "\n",
    "best_train_score, best_train_params = grid_model_result.best_score_, grid_model_result.best_params_\n",
    "print(\"Best: %f using %s\" % (best_train_score, best_train_params))\n",
    "\n",
    "best_model = grid_model_result.best_estimator_\n",
    "best_score =  best_model.score(rescaledX_test, y_test)\n",
    "\n",
    "print(\"Accuracy of logistic regression classifier: \", best_score)"
   ],
   "metadata": {
    "collapsed": false,
    "jupyter": {
     "outputs_hidden": false,
     "source_hidden": false
    },
    "executionCancelledAt": null,
    "executionTime": null,
    "lastExecutedAt": null,
    "lastExecutedByKernel": null,
    "lastScheduledRunId": null,
    "lastSuccessfullyExecutedCode": null,
    "outputsMetadata": {
     "0": {
      "height": 101,
      "type": "stream"
     }
    }
   },
   "cell_type": "code",
   "id": "64c94731-658b-4937-a5db-1e5b21ebbd1d",
   "outputs": [
    {
     "output_type": "stream",
     "name": "stdout",
     "text": "[[203   1]\n [  1 257]]\nBest: 0.818163 using {'max_iter': 100, 'tol': 0.01}\nAccuracy of logistic regression classifier:  0.793859649122807\n"
    }
   ],
   "execution_count": 35
  }
 ],
 "metadata": {
  "colab": {
   "name": "Welcome to DataCamp Workspaces.ipynb",
   "provenance": []
  },
  "kernelspec": {
   "display_name": "Python 3 (ipykernel)",
   "language": "python",
   "name": "python3"
  },
  "language_info": {
   "name": "python",
   "version": "3.8.10",
   "mimetype": "text/x-python",
   "codemirror_mode": {
    "name": "ipython",
    "version": 3
   },
   "pygments_lexer": "ipython3",
   "nbconvert_exporter": "python",
   "file_extension": ".py"
  },
  "editor": "DataLab"
 },
 "nbformat": 4,
 "nbformat_minor": 5
}
